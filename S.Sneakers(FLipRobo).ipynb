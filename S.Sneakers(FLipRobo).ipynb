{
 "cells": [
  {
   "cell_type": "markdown",
   "id": "805b25f5-fdae-4743-a35a-efad55692323",
   "metadata": {
    "tags": []
   },
   "source": [
    "### \n",
    "Q6: Scrape data for first 100 sneakers you find when you visit flipkart.com and search for “sneakers” in the search field.\n",
    "You have to scrape 4 attributes of each sneaker:\n",
    "1. Brand\n",
    "2. Product Description\n",
    "3. Price"
   ]
  },
  {
   "cell_type": "code",
   "execution_count": 3,
   "id": "3124f496-ccec-4db5-a29c-0d6f05348f5b",
   "metadata": {},
   "outputs": [],
   "source": [
    "import selenium \n",
    "from selenium import webdriver\n",
    "from selenium.webdriver.common.by import By\n",
    "from selenium.common.exceptions import NoSuchElementException, StaleElementReferenceException\n",
    "import warnings\n",
    "warnings.filterwarnings('ignore')\n",
    "import pandas as pd\n",
    "import numpy as np"
   ]
  },
  {
   "cell_type": "code",
   "execution_count": 40,
   "id": "8198a298-a464-4180-b340-6b4b2a1cfd9a",
   "metadata": {},
   "outputs": [],
   "source": [
    "driver = webdriver.Chrome(r'chromedriver.exe')\n",
    "driver.get('https://www.flipkart.com/')\n",
    "search = driver.find_element(By.CLASS_NAME, '_3704LK')\n",
    "search.send_keys('sneakers')\n",
    "button = driver.find_element(By.XPATH, '/html/body/div[1]/div/div[1]/div[1]/div[2]/div[2]/form/div/button')\n",
    "button.click()"
   ]
  },
  {
   "cell_type": "code",
   "execution_count": 46,
   "id": "1dd78e96-9f82-40fb-8b39-49628c7cea31",
   "metadata": {},
   "outputs": [
    {
     "name": "stdout",
     "output_type": "stream",
     "text": [
      "[['ANTA', '₹4,509'], ['RapidBox', '₹599'], ['Labbin', '₹399'], ['Shozie', '₹299'], ['Kzaara', '₹229'], ['SFR', '₹199'], ['SFR', '₹299'], ['RapidBox', '₹580'], ['aadi', '₹359'], ['BRUTON', '₹299'], ['Shozie', '₹419'], ['Lavista', '₹569'], ['BRUTON', '₹581'], ['SFR', '₹269'], ['Magnolia', '₹389'], ['Mast & Harbour', '₹824'], ['SCATCHITE', '₹360'], ['Kraasa', '₹299'], ['Rzisbo', '₹549'], ['asian', '₹842'], ['TR', '₹499'], ['Asian Shoes', '₹449'], ['Bond Street By Red Tape', '₹1,324'], ['U.S. POLO ASSN.', '₹1,359'], ['Kraasa', '₹449'], ['SFR', '₹299'], ['World Wear Footwear', '₹259'], ['U.S. POLO ASSN.', '₹1,739'], ['Labbin', '₹399'], ['Robbie jones', '₹439'], ['GVR', '₹597'], ['CAMPUS', '₹1,899'], ['asian', '₹657'], ['TR', '₹299'], ['Deals4you', '₹299'], ['U.S. POLO ASSN.', '₹1,934'], ['HOTSTYLE', '₹298'], ['NIKE', '₹3,707'], ['PUMA', '₹1,919'], ['PUMA', '₹3,499'], ['ANTA', '₹4,509'], ['RapidBox', '₹599'], ['Labbin', '₹399'], ['Shozie', '₹299'], ['Kzaara', '₹229'], ['SFR', '₹199'], ['SFR', '₹299'], ['RapidBox', '₹580'], ['aadi', '₹359'], ['BRUTON', '₹299'], ['Shozie', '₹419'], ['Lavista', '₹569'], ['BRUTON', '₹581'], ['SFR', '₹269'], ['Magnolia', '₹389'], ['Mast & Harbour', '₹824'], ['SCATCHITE', '₹360'], ['Kraasa', '₹299'], ['Rzisbo', '₹549'], ['asian', '₹842'], ['TR', '₹499'], ['Asian Shoes', '₹449'], ['Bond Street By Red Tape', '₹1,324'], ['U.S. POLO ASSN.', '₹1,359'], ['Kraasa', '₹449'], ['SFR', '₹299'], ['World Wear Footwear', '₹259'], ['U.S. POLO ASSN.', '₹1,739'], ['Labbin', '₹399'], ['Robbie jones', '₹439'], ['GVR', '₹597'], ['CAMPUS', '₹1,899'], ['asian', '₹657'], ['TR', '₹299'], ['Deals4you', '₹299'], ['U.S. POLO ASSN.', '₹1,934'], ['HOTSTYLE', '₹298'], ['NIKE', '₹3,707'], ['PUMA', '₹1,919'], ['PUMA', '₹3,499'], ['ANTA', '₹4,509'], ['RapidBox', '₹599'], ['Labbin', '₹399'], ['Shozie', '₹299'], ['Kzaara', '₹229'], ['SFR', '₹199'], ['SFR', '₹299'], ['RapidBox', '₹580'], ['aadi', '₹359'], ['BRUTON', '₹299'], ['Shozie', '₹419'], ['Lavista', '₹569'], ['BRUTON', '₹581'], ['SFR', '₹269'], ['Magnolia', '₹389'], ['Mast & Harbour', '₹824'], ['SCATCHITE', '₹360'], ['Kraasa', '₹299'], ['Rzisbo', '₹549'], ['asian', '₹842'], ['TR', '₹499'], ['Asian Shoes', '₹449'], ['Bond Street By Red Tape', '₹1,324'], ['U.S. POLO ASSN.', '₹1,359'], ['Kraasa', '₹449'], ['SFR', '₹299'], ['World Wear Footwear', '₹259'], ['U.S. POLO ASSN.', '₹1,739'], ['Labbin', '₹399'], ['Robbie jones', '₹439'], ['GVR', '₹597'], ['CAMPUS', '₹1,899'], ['asian', '₹657'], ['TR', '₹299'], ['Deals4you', '₹299'], ['U.S. POLO ASSN.', '₹1,934'], ['HOTSTYLE', '₹298'], ['NIKE', '₹3,707'], ['PUMA', '₹1,919'], ['PUMA', '₹3,499']]\n"
     ]
    }
   ],
   "source": [
    "element_list = []\n",
    "\n",
    "for i in range(1,4):\n",
    "    brand = driver.find_elements(By.XPATH, '//div[@class=\"_2WkVRV\"]')\n",
    "    price = driver.find_elements(By.XPATH, '//div[@class=\"_30jeq3\"]')\n",
    "    desc = driver.find_elements(By.XPATH, '//a[@class=\"IRpwTa\"]')\n",
    "    \n",
    "    for i in range(len(brand)):\n",
    "        element_list.append([brand[i].text, price[i].text])\n",
    "print(element_list)        \n",
    "driver.close()        "
   ]
  },
  {
   "cell_type": "code",
   "execution_count": 47,
   "id": "947c8191-a09c-4765-8e3b-9ee2e7496e97",
   "metadata": {},
   "outputs": [
    {
     "data": {
      "text/html": [
       "<div>\n",
       "<style scoped>\n",
       "    .dataframe tbody tr th:only-of-type {\n",
       "        vertical-align: middle;\n",
       "    }\n",
       "\n",
       "    .dataframe tbody tr th {\n",
       "        vertical-align: top;\n",
       "    }\n",
       "\n",
       "    .dataframe thead th {\n",
       "        text-align: right;\n",
       "    }\n",
       "</style>\n",
       "<table border=\"1\" class=\"dataframe\">\n",
       "  <thead>\n",
       "    <tr style=\"text-align: right;\">\n",
       "      <th></th>\n",
       "      <th>0</th>\n",
       "      <th>1</th>\n",
       "    </tr>\n",
       "  </thead>\n",
       "  <tbody>\n",
       "    <tr>\n",
       "      <th>0</th>\n",
       "      <td>ANTA</td>\n",
       "      <td>₹4,509</td>\n",
       "    </tr>\n",
       "    <tr>\n",
       "      <th>1</th>\n",
       "      <td>RapidBox</td>\n",
       "      <td>₹599</td>\n",
       "    </tr>\n",
       "    <tr>\n",
       "      <th>2</th>\n",
       "      <td>Labbin</td>\n",
       "      <td>₹399</td>\n",
       "    </tr>\n",
       "    <tr>\n",
       "      <th>3</th>\n",
       "      <td>Shozie</td>\n",
       "      <td>₹299</td>\n",
       "    </tr>\n",
       "    <tr>\n",
       "      <th>4</th>\n",
       "      <td>Kzaara</td>\n",
       "      <td>₹229</td>\n",
       "    </tr>\n",
       "    <tr>\n",
       "      <th>...</th>\n",
       "      <td>...</td>\n",
       "      <td>...</td>\n",
       "    </tr>\n",
       "    <tr>\n",
       "      <th>115</th>\n",
       "      <td>U.S. POLO ASSN.</td>\n",
       "      <td>₹1,934</td>\n",
       "    </tr>\n",
       "    <tr>\n",
       "      <th>116</th>\n",
       "      <td>HOTSTYLE</td>\n",
       "      <td>₹298</td>\n",
       "    </tr>\n",
       "    <tr>\n",
       "      <th>117</th>\n",
       "      <td>NIKE</td>\n",
       "      <td>₹3,707</td>\n",
       "    </tr>\n",
       "    <tr>\n",
       "      <th>118</th>\n",
       "      <td>PUMA</td>\n",
       "      <td>₹1,919</td>\n",
       "    </tr>\n",
       "    <tr>\n",
       "      <th>119</th>\n",
       "      <td>PUMA</td>\n",
       "      <td>₹3,499</td>\n",
       "    </tr>\n",
       "  </tbody>\n",
       "</table>\n",
       "<p>120 rows × 2 columns</p>\n",
       "</div>"
      ],
      "text/plain": [
       "                   0       1\n",
       "0               ANTA  ₹4,509\n",
       "1           RapidBox    ₹599\n",
       "2             Labbin    ₹399\n",
       "3             Shozie    ₹299\n",
       "4             Kzaara    ₹229\n",
       "..               ...     ...\n",
       "115  U.S. POLO ASSN.  ₹1,934\n",
       "116         HOTSTYLE    ₹298\n",
       "117             NIKE  ₹3,707\n",
       "118             PUMA  ₹1,919\n",
       "119             PUMA  ₹3,499\n",
       "\n",
       "[120 rows x 2 columns]"
      ]
     },
     "execution_count": 47,
     "metadata": {},
     "output_type": "execute_result"
    }
   ],
   "source": [
    "pd.DataFrame(element_list)"
   ]
  },
  {
   "cell_type": "code",
   "execution_count": 29,
   "id": "08c82804-c05c-41ca-bc1c-8b5be5d03ed2",
   "metadata": {},
   "outputs": [
    {
     "name": "stdout",
     "output_type": "stream",
     "text": [
      "[['ANTA', 'A-Shock Sneakers For Men', '₹4,509'], ['RapidBox', 'RapidBox Men Shoes Sneakers For Men', '₹599'], ['Labbin', 'Sneakers For Men', '₹399'], ['Shozie', 'Sneakers For Men', '₹299'], ['Kzaara', 'Sneakers For Men', '₹229'], ['SFR', 'PLANCK Smart Grey Lace-Ups Casuals Sneakers Sneakers Fo...', '₹199'], ['SFR', 'FAST Trenddy Tainer Lace-ups Sporty Casuals Sneakers Fo...', '₹299'], ['RapidBox', 'Stylish & Trendy Sneakers For Men', '₹580'], ['aadi', 'Mesh | Ultralightweight | Comfortable | Breathable Walk...', '₹359'], ['BRUTON', 'Modern Trendy Sneakers Shoes Sneakers For Men', '₹299'], ['Lavista', 'Unique & Perfect Collection of Fashionable Walking Part...', '₹569'], ['Mast & Harbour', 'Sneakers For Men', '₹824'], ['Shozie', 'Sneakers For Men', '₹419'], ['BRUTON', '2 Combo Sneaker Shoes Sneakers For Men', '₹581'], ['SFR', 'Sneakers For Men', '₹269'], ['Magnolia', 'Modern Trendy Sneakers boot Sneakers Sneakers For Men', '₹389'], ['asian', 'Jasper-02 Black Sneakers,Loafers,Casuals,Walking Stylis...', '₹842'], ['U.S. POLO ASSN.', 'BRENTT 2.0 Sneakers For Men', '₹1,359'], ['SCATCHITE', 'Sneakers Sneakers For Men', '₹360'], ['Kraasa', 'Sneakers For Women', '₹299'], ['U.S. POLO ASSN.', 'CLARKIN Sneakers For Men', '₹1,739'], ['CAMPUS', 'Sneakers For Men', '₹1,899'], ['Rzisbo', 'Sneakers For Men', '₹549'], ['TR', 'Future-04 casual shoes for men | Latest Stylish Casual ...', '₹499'], ['Asian Shoes', 'High Top Sneakers For Men', '₹449'], ['Bond Street By Red Tape', 'LEBRON 3.0 Sneakers For Men', '₹1,324'], ['U.S. POLO ASSN.', 'BMW MMS Neo Cat Sneakers For Men', '₹1,934'], ['PUMA', 'Casuals, Canvas, Partywear Sneakers For Men', '₹3,499'], ['Kraasa', '2003 Trenddy Fashion Sporty Casuals Sneakers Running Sh...', '₹449'], ['SFR', 'BRENTT 2.0 Sneakers For Men', '₹299'], ['U.S. POLO ASSN.', 'PU Upper Casual Sneakers For Walking,Running,Gym For Me...', '₹1,529'], ['Cipramo Sports', 'Exclusive Affordable Collection of Trendy & Stylish Cas...', '₹854'], ['World Wear Footwear', 'Casual Sneakers White Shoes For Boys And Men Sneakers F...', '₹259'], ['Labbin', 'Sneakers For Men', '₹399'], ['Robbie jones', 'Sneakers For Men', '₹439'], ['GVR', 'LEBRON 3.0 Sneakers For Men', '₹597'], ['U.S. POLO ASSN.', 'OXLEY 2.0 Sneakers For Men', '₹1,934'], ['U.S. POLO ASSN.', 'WATERPROOF-05cFULLWHITE Sneakers For Men', '₹2,069'], ['asian', 'Sneakers For Men', '₹657'], ['ANTA', '₹4,509'], ['RapidBox', '₹599'], ['Labbin', '₹399'], ['Shozie', '₹299'], ['Kzaara', '₹229'], ['SFR', '₹199'], ['SFR', '₹299'], ['RapidBox', '₹580'], ['aadi', '₹359'], ['BRUTON', '₹299'], ['Lavista', '₹569'], ['Mast & Harbour', '₹824'], ['Shozie', '₹419'], ['BRUTON', '₹581'], ['SFR', '₹269'], ['Magnolia', '₹389'], ['asian', '₹842'], ['U.S. POLO ASSN.', '₹1,359'], ['SCATCHITE', '₹360'], ['Kraasa', '₹299'], ['U.S. POLO ASSN.', '₹1,739'], ['CAMPUS', '₹1,899'], ['Rzisbo', '₹549'], ['TR', '₹499'], ['Asian Shoes', '₹449'], ['Bond Street By Red Tape', '₹1,324'], ['U.S. POLO ASSN.', '₹1,934'], ['PUMA', '₹3,499'], ['Kraasa', '₹449'], ['SFR', '₹299'], ['U.S. POLO ASSN.', '₹1,529'], ['Cipramo Sports', '₹854'], ['World Wear Footwear', '₹259'], ['Labbin', '₹399'], ['Robbie jones', '₹439'], ['GVR', '₹597'], ['U.S. POLO ASSN.', '₹1,934'], ['U.S. POLO ASSN.', '₹2,069'], ['asian', '₹657'], ['TR', '₹299']]\n"
     ]
    }
   ],
   "source": [
    "   for i in range(len(brand)):\n",
    "        element_list.append([brand[i].text, price[i].text])\n",
    "print(element_list)        \n",
    "driver.close() "
   ]
  },
  {
   "cell_type": "code",
   "execution_count": 33,
   "id": "807d3e99-adb2-47cd-9266-875969f52912",
   "metadata": {},
   "outputs": [
    {
     "data": {
      "text/html": [
       "<div>\n",
       "<style scoped>\n",
       "    .dataframe tbody tr th:only-of-type {\n",
       "        vertical-align: middle;\n",
       "    }\n",
       "\n",
       "    .dataframe tbody tr th {\n",
       "        vertical-align: top;\n",
       "    }\n",
       "\n",
       "    .dataframe thead th {\n",
       "        text-align: right;\n",
       "    }\n",
       "</style>\n",
       "<table border=\"1\" class=\"dataframe\">\n",
       "  <thead>\n",
       "    <tr style=\"text-align: right;\">\n",
       "      <th></th>\n",
       "      <th>0</th>\n",
       "      <th>1</th>\n",
       "      <th>2</th>\n",
       "    </tr>\n",
       "  </thead>\n",
       "  <tbody>\n",
       "    <tr>\n",
       "      <th>0</th>\n",
       "      <td>ANTA</td>\n",
       "      <td>A-Shock Sneakers For Men</td>\n",
       "      <td>₹4,509</td>\n",
       "    </tr>\n",
       "    <tr>\n",
       "      <th>1</th>\n",
       "      <td>RapidBox</td>\n",
       "      <td>RapidBox Men Shoes Sneakers For Men</td>\n",
       "      <td>₹599</td>\n",
       "    </tr>\n",
       "    <tr>\n",
       "      <th>2</th>\n",
       "      <td>Labbin</td>\n",
       "      <td>Sneakers For Men</td>\n",
       "      <td>₹399</td>\n",
       "    </tr>\n",
       "    <tr>\n",
       "      <th>3</th>\n",
       "      <td>Shozie</td>\n",
       "      <td>Sneakers For Men</td>\n",
       "      <td>₹299</td>\n",
       "    </tr>\n",
       "    <tr>\n",
       "      <th>4</th>\n",
       "      <td>Kzaara</td>\n",
       "      <td>Sneakers For Men</td>\n",
       "      <td>₹229</td>\n",
       "    </tr>\n",
       "    <tr>\n",
       "      <th>...</th>\n",
       "      <td>...</td>\n",
       "      <td>...</td>\n",
       "      <td>...</td>\n",
       "    </tr>\n",
       "    <tr>\n",
       "      <th>74</th>\n",
       "      <td>GVR</td>\n",
       "      <td>₹597</td>\n",
       "      <td>None</td>\n",
       "    </tr>\n",
       "    <tr>\n",
       "      <th>75</th>\n",
       "      <td>U.S. POLO ASSN.</td>\n",
       "      <td>₹1,934</td>\n",
       "      <td>None</td>\n",
       "    </tr>\n",
       "    <tr>\n",
       "      <th>76</th>\n",
       "      <td>U.S. POLO ASSN.</td>\n",
       "      <td>₹2,069</td>\n",
       "      <td>None</td>\n",
       "    </tr>\n",
       "    <tr>\n",
       "      <th>77</th>\n",
       "      <td>asian</td>\n",
       "      <td>₹657</td>\n",
       "      <td>None</td>\n",
       "    </tr>\n",
       "    <tr>\n",
       "      <th>78</th>\n",
       "      <td>TR</td>\n",
       "      <td>₹299</td>\n",
       "      <td>None</td>\n",
       "    </tr>\n",
       "  </tbody>\n",
       "</table>\n",
       "<p>79 rows × 3 columns</p>\n",
       "</div>"
      ],
      "text/plain": [
       "                  0                                    1       2\n",
       "0              ANTA             A-Shock Sneakers For Men  ₹4,509\n",
       "1          RapidBox  RapidBox Men Shoes Sneakers For Men    ₹599\n",
       "2            Labbin                     Sneakers For Men    ₹399\n",
       "3            Shozie                     Sneakers For Men    ₹299\n",
       "4            Kzaara                     Sneakers For Men    ₹229\n",
       "..              ...                                  ...     ...\n",
       "74              GVR                                 ₹597    None\n",
       "75  U.S. POLO ASSN.                               ₹1,934    None\n",
       "76  U.S. POLO ASSN.                               ₹2,069    None\n",
       "77            asian                                 ₹657    None\n",
       "78               TR                                 ₹299    None\n",
       "\n",
       "[79 rows x 3 columns]"
      ]
     },
     "execution_count": 33,
     "metadata": {},
     "output_type": "execute_result"
    }
   ],
   "source": [
    "pd.DataFrame(element_list)"
   ]
  },
  {
   "cell_type": "code",
   "execution_count": null,
   "id": "40357287-aa8e-427f-bd1f-c173a1840641",
   "metadata": {},
   "outputs": [],
   "source": []
  },
  {
   "cell_type": "code",
   "execution_count": null,
   "id": "59378615-8a7d-4bad-b2ca-b26ed49c02a0",
   "metadata": {},
   "outputs": [],
   "source": []
  }
 ],
 "metadata": {
  "kernelspec": {
   "display_name": "Python 3 (ipykernel)",
   "language": "python",
   "name": "python3"
  },
  "language_info": {
   "codemirror_mode": {
    "name": "ipython",
    "version": 3
   },
   "file_extension": ".py",
   "mimetype": "text/x-python",
   "name": "python",
   "nbconvert_exporter": "python",
   "pygments_lexer": "ipython3",
   "version": "3.9.7"
  }
 },
 "nbformat": 4,
 "nbformat_minor": 5
}
