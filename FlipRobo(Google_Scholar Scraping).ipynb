{
 "cells": [
  {
   "cell_type": "markdown",
   "id": "aba76f1d-aa5e-48ed-9f83-a63e01a93e4b",
   "metadata": {},
   "source": [
    "### Importing all neccesaary Liberaries"
   ]
  },
  {
   "cell_type": "code",
   "execution_count": 118,
   "id": "d226381e-2722-4c43-8fb6-f4aa18794feb",
   "metadata": {},
   "outputs": [],
   "source": [
    "from bs4 import BeautifulSoup\n",
    "import requests\n",
    "import pandas as pd\n",
    "import numpy as np"
   ]
  },
  {
   "cell_type": "code",
   "execution_count": 119,
   "id": "28124664-aaca-48f1-a185-f7d1c56dbe80",
   "metadata": {},
   "outputs": [
    {
     "data": {
      "text/plain": [
       "200"
      ]
     },
     "execution_count": 119,
     "metadata": {},
     "output_type": "execute_result"
    }
   ],
   "source": [
    "dine = requests.get('https://scholar.google.com/citations?view_op=top_venues&hl=en') # Make a request to a web page with requests module\n",
    "dine.status_code #HTTP response status codes indicate whether a specific HTTP request has been successfully completed here,‎200 Successful responses ‎418 I'm a teapot · ‎400 Bad Request · ‎422 Unprocessable Entity"
   ]
  },
  {
   "cell_type": "code",
   "execution_count": 120,
   "id": "cf16300d-6e6b-4752-be5b-14988b2976b2",
   "metadata": {},
   "outputs": [],
   "source": [
    "soup = BeautifulSoup(dine.text, 'html.parser') "
   ]
  },
  {
   "cell_type": "code",
   "execution_count": 121,
   "id": "4109e5ab-df58-485a-87ab-37870a6a98be",
   "metadata": {},
   "outputs": [],
   "source": [
    "name = soup.find_all('td', class_ = 'gsc_mvt_t')"
   ]
  },
  {
   "cell_type": "code",
   "execution_count": 123,
   "id": "653bac4c-9c5e-4851-8627-9605a0738368",
   "metadata": {},
   "outputs": [],
   "source": [
    "name = pd.DataFrame([x.text for x in name], columns = ['Name'])"
   ]
  },
  {
   "cell_type": "code",
   "execution_count": 124,
   "id": "54c06999-ff6c-4fe6-8f75-0eed4fccb044",
   "metadata": {},
   "outputs": [],
   "source": [
    "index = soup.find_all('a', class_='gs_ibl gsc_mp_anchor')"
   ]
  },
  {
   "cell_type": "code",
   "execution_count": 125,
   "id": "9bbe0f42-67e0-46eb-8d0f-c30c832f0beb",
   "metadata": {},
   "outputs": [],
   "source": [
    "h5_index = pd.DataFrame([x.text for x in index], columns = ['h5_index'])"
   ]
  },
  {
   "cell_type": "code",
   "execution_count": 126,
   "id": "ae1a27a9-75c9-4914-9a6b-28c69bfcdc7f",
   "metadata": {},
   "outputs": [
    {
     "data": {
      "text/html": [
       "<div>\n",
       "<style scoped>\n",
       "    .dataframe tbody tr th:only-of-type {\n",
       "        vertical-align: middle;\n",
       "    }\n",
       "\n",
       "    .dataframe tbody tr th {\n",
       "        vertical-align: top;\n",
       "    }\n",
       "\n",
       "    .dataframe thead th {\n",
       "        text-align: right;\n",
       "    }\n",
       "</style>\n",
       "<table border=\"1\" class=\"dataframe\">\n",
       "  <thead>\n",
       "    <tr style=\"text-align: right;\">\n",
       "      <th></th>\n",
       "      <th>h5_index</th>\n",
       "    </tr>\n",
       "  </thead>\n",
       "  <tbody>\n",
       "    <tr>\n",
       "      <th>0</th>\n",
       "      <td>444</td>\n",
       "    </tr>\n",
       "    <tr>\n",
       "      <th>1</th>\n",
       "      <td>432</td>\n",
       "    </tr>\n",
       "    <tr>\n",
       "      <th>2</th>\n",
       "      <td>401</td>\n",
       "    </tr>\n",
       "    <tr>\n",
       "      <th>3</th>\n",
       "      <td>389</td>\n",
       "    </tr>\n",
       "    <tr>\n",
       "      <th>4</th>\n",
       "      <td>354</td>\n",
       "    </tr>\n",
       "    <tr>\n",
       "      <th>...</th>\n",
       "      <td>...</td>\n",
       "    </tr>\n",
       "    <tr>\n",
       "      <th>95</th>\n",
       "      <td>145</td>\n",
       "    </tr>\n",
       "    <tr>\n",
       "      <th>96</th>\n",
       "      <td>145</td>\n",
       "    </tr>\n",
       "    <tr>\n",
       "      <th>97</th>\n",
       "      <td>145</td>\n",
       "    </tr>\n",
       "    <tr>\n",
       "      <th>98</th>\n",
       "      <td>144</td>\n",
       "    </tr>\n",
       "    <tr>\n",
       "      <th>99</th>\n",
       "      <td>144</td>\n",
       "    </tr>\n",
       "  </tbody>\n",
       "</table>\n",
       "<p>100 rows × 1 columns</p>\n",
       "</div>"
      ],
      "text/plain": [
       "   h5_index\n",
       "0       444\n",
       "1       432\n",
       "2       401\n",
       "3       389\n",
       "4       354\n",
       "..      ...\n",
       "95      145\n",
       "96      145\n",
       "97      145\n",
       "98      144\n",
       "99      144\n",
       "\n",
       "[100 rows x 1 columns]"
      ]
     },
     "execution_count": 126,
     "metadata": {},
     "output_type": "execute_result"
    }
   ],
   "source": [
    "h5_index"
   ]
  },
  {
   "cell_type": "code",
   "execution_count": 127,
   "id": "f26292cb-26c4-4386-8407-18be21e1584b",
   "metadata": {},
   "outputs": [],
   "source": [
    "h5 = soup.find_all('span', class_ = 'gs_ibl gsc_mp_anchor')\n"
   ]
  },
  {
   "cell_type": "code",
   "execution_count": 128,
   "id": "6e829561-7748-4c4f-b9a5-48ed972940dd",
   "metadata": {},
   "outputs": [],
   "source": [
    "h5 = pd.DataFrame([x.text for x in h5], columns = ['h5_median'])"
   ]
  },
  {
   "cell_type": "code",
   "execution_count": null,
   "id": "008e2a67-f529-4679-a82f-9bd7602c150e",
   "metadata": {},
   "outputs": [],
   "source": []
  },
  {
   "cell_type": "code",
   "execution_count": 129,
   "id": "fe1df4c2-ae2a-4be8-bd92-887054b18864",
   "metadata": {},
   "outputs": [],
   "source": [
    "rank = soup.find_all('td', class_ = 'gsc_mvt_p')\n",
    "rank = pd.DataFrame([x.text for x in rank], columns = ['rank'])"
   ]
  },
  {
   "cell_type": "code",
   "execution_count": null,
   "id": "fa7919ec-06fd-46e8-bdac-0ed2cd6de5ba",
   "metadata": {},
   "outputs": [],
   "source": []
  },
  {
   "cell_type": "code",
   "execution_count": 138,
   "id": "4c96e521-ead4-4473-9359-9f4604db7e86",
   "metadata": {},
   "outputs": [],
   "source": [
    "google_scholar = pd.concat([rank, name, h5, h5_index ], axis = 1)"
   ]
  },
  {
   "cell_type": "code",
   "execution_count": 140,
   "id": "e418ea70-4fff-45f3-a5a6-298fa64c6c86",
   "metadata": {},
   "outputs": [
    {
     "data": {
      "text/html": [
       "<div>\n",
       "<style scoped>\n",
       "    .dataframe tbody tr th:only-of-type {\n",
       "        vertical-align: middle;\n",
       "    }\n",
       "\n",
       "    .dataframe tbody tr th {\n",
       "        vertical-align: top;\n",
       "    }\n",
       "\n",
       "    .dataframe thead th {\n",
       "        text-align: right;\n",
       "    }\n",
       "</style>\n",
       "<table border=\"1\" class=\"dataframe\">\n",
       "  <thead>\n",
       "    <tr style=\"text-align: right;\">\n",
       "      <th></th>\n",
       "      <th>Name</th>\n",
       "      <th>h5_median</th>\n",
       "      <th>h5_index</th>\n",
       "    </tr>\n",
       "    <tr>\n",
       "      <th>rank</th>\n",
       "      <th></th>\n",
       "      <th></th>\n",
       "      <th></th>\n",
       "    </tr>\n",
       "  </thead>\n",
       "  <tbody>\n",
       "    <tr>\n",
       "      <th>1.</th>\n",
       "      <td>Nature</td>\n",
       "      <td>667</td>\n",
       "      <td>444</td>\n",
       "    </tr>\n",
       "    <tr>\n",
       "      <th>2.</th>\n",
       "      <td>The New England Journal of Medicine</td>\n",
       "      <td>780</td>\n",
       "      <td>432</td>\n",
       "    </tr>\n",
       "    <tr>\n",
       "      <th>3.</th>\n",
       "      <td>Science</td>\n",
       "      <td>614</td>\n",
       "      <td>401</td>\n",
       "    </tr>\n",
       "    <tr>\n",
       "      <th>4.</th>\n",
       "      <td>IEEE/CVF Conference on Computer Vision and Pat...</td>\n",
       "      <td>627</td>\n",
       "      <td>389</td>\n",
       "    </tr>\n",
       "    <tr>\n",
       "      <th>5.</th>\n",
       "      <td>The Lancet</td>\n",
       "      <td>635</td>\n",
       "      <td>354</td>\n",
       "    </tr>\n",
       "    <tr>\n",
       "      <th>...</th>\n",
       "      <td>...</td>\n",
       "      <td>...</td>\n",
       "      <td>...</td>\n",
       "    </tr>\n",
       "    <tr>\n",
       "      <th>96.</th>\n",
       "      <td>Journal of Business Research</td>\n",
       "      <td>233</td>\n",
       "      <td>145</td>\n",
       "    </tr>\n",
       "    <tr>\n",
       "      <th>97.</th>\n",
       "      <td>Molecular Cancer</td>\n",
       "      <td>209</td>\n",
       "      <td>145</td>\n",
       "    </tr>\n",
       "    <tr>\n",
       "      <th>98.</th>\n",
       "      <td>Sensors</td>\n",
       "      <td>201</td>\n",
       "      <td>145</td>\n",
       "    </tr>\n",
       "    <tr>\n",
       "      <th>99.</th>\n",
       "      <td>Nature Climate Change</td>\n",
       "      <td>228</td>\n",
       "      <td>144</td>\n",
       "    </tr>\n",
       "    <tr>\n",
       "      <th>100.</th>\n",
       "      <td>IEEE Internet of Things Journal</td>\n",
       "      <td>212</td>\n",
       "      <td>144</td>\n",
       "    </tr>\n",
       "  </tbody>\n",
       "</table>\n",
       "<p>100 rows × 3 columns</p>\n",
       "</div>"
      ],
      "text/plain": [
       "                                                   Name h5_median h5_index\n",
       "rank                                                                      \n",
       "1.                                               Nature       667      444\n",
       "2.                  The New England Journal of Medicine       780      432\n",
       "3.                                              Science       614      401\n",
       "4.    IEEE/CVF Conference on Computer Vision and Pat...       627      389\n",
       "5.                                           The Lancet       635      354\n",
       "...                                                 ...       ...      ...\n",
       "96.                        Journal of Business Research       233      145\n",
       "97.                                    Molecular Cancer       209      145\n",
       "98.                                             Sensors       201      145\n",
       "99.                               Nature Climate Change       228      144\n",
       "100.                    IEEE Internet of Things Journal       212      144\n",
       "\n",
       "[100 rows x 3 columns]"
      ]
     },
     "execution_count": 140,
     "metadata": {},
     "output_type": "execute_result"
    }
   ],
   "source": [
    "google_scholar = google_scholar.set_index('rank')\n",
    "google_scholar"
   ]
  },
  {
   "cell_type": "code",
   "execution_count": null,
   "id": "f03560f9-ac41-447b-a290-8f696adca97b",
   "metadata": {},
   "outputs": [],
   "source": []
  }
 ],
 "metadata": {
  "kernelspec": {
   "display_name": "Python 3 (ipykernel)",
   "language": "python",
   "name": "python3"
  },
  "language_info": {
   "codemirror_mode": {
    "name": "ipython",
    "version": 3
   },
   "file_extension": ".py",
   "mimetype": "text/x-python",
   "name": "python",
   "nbconvert_exporter": "python",
   "pygments_lexer": "ipython3",
   "version": "3.9.7"
  }
 },
 "nbformat": 4,
 "nbformat_minor": 5
}
