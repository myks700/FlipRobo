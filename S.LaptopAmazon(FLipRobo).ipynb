{
 "cells": [
  {
   "cell_type": "markdown",
   "id": "d9a6d267-efad-4452-b4ad-b9aea545aa60",
   "metadata": {},
   "source": [
    "Q7: \n",
    "* Go to webpage https://www.amazon.in/\n",
    "* Enter “Laptop” in the search field and then click the search icon.\n",
    "* Then set CPU Type filter to “Intel Core i7” as shown in the below image:"
   ]
  },
  {
   "cell_type": "markdown",
   "id": "097b60f2-5875-4507-b186-e6de31a89fd8",
   "metadata": {},
   "source": [
    "### \n",
    "After setting the filters scrape first 10 laptops data. You have to scrape 3 attributes for each laptop:\n",
    "1. Title\n",
    "2. Ratings\n",
    "3. Price"
   ]
  },
  {
   "cell_type": "code",
   "execution_count": 1,
   "id": "d5c858b3-51cf-4abf-b540-1ecf281a0c7a",
   "metadata": {},
   "outputs": [],
   "source": [
    "import pandas as pd\n",
    "import numpy as np\n",
    "import selenium\n",
    "from selenium import webdriver\n",
    "import warnings \n",
    "warnings.filterwarnings('ignore')\n",
    "from selenium.common.exceptions import StaleElementReferenceException, NoSuchElementException\n",
    "from selenium.webdriver.common.by import By\n",
    "import time"
   ]
  },
  {
   "cell_type": "code",
   "execution_count": 18,
   "id": "1441a2c3-868b-45b3-b9f5-c016df70331d",
   "metadata": {},
   "outputs": [],
   "source": [
    "driver = webdriver.Chrome(r'chromedriver.exe')\n",
    "driver.get('https://www.amazon.in/')\n",
    "search = driver.find_element(By.XPATH, '/html/body/div[1]/header/div/div[1]/div[2]/div/form/div[2]/div[1]/input')\n",
    "search.send_keys('Laptop')\n",
    "button = driver.find_element(By.XPATH, '/html/body/div[1]/header/div/div[1]/div[2]/div/form/div[3]/div/span/input')\n",
    "button.click()\n",
    "click = driver.find_element(By.XPATH, '/html/body/div[1]/div[2]/div[1]/div[2]/div/div[3]/span/div[1]/div/div/div[6]/ul[6]/li[13]/span/a/div')\n",
    "click.click()"
   ]
  },
  {
   "cell_type": "code",
   "execution_count": 26,
   "id": "a37ba08b-2046-4801-955f-3ed4cd840df6",
   "metadata": {},
   "outputs": [
    {
     "name": "stdout",
     "output_type": "stream",
     "text": [
      "[['Acer Aspire 5 Intel Core i5 11th Gen Thin & Light Laptop- (8 GB/512 GB SSD/Windows 11 Home/Intel Iris Xe Graphics/Pure Silver/1.45 KG/MS Office),14-inch (35.56 cms) Full HD IPS Display ,A514-54', '(3.7)', '44,990'], ['HP Pavilion 14 12th Gen Intel Core i5 16GB SDRAM/512GB SSD 14 inch(35.6cm) IPS Micro-Edge FHD Laptop/Intel UHD Graphics/B&O/Win 11/Alexa Built-in/Backlit KB/FPR/MSO 2021/Natural Silver, 14-dv2014TU', '(4.2)', '68,999'], ['(Renewed) Dell Latitude E5470 Intel Core i5 6th Gen.6200u Processor 14.1 Inches HD Screen Notebook Computer (8 GB Ram & 256 GB SSD, Windows 10 Pro, 1.71Kg)', '(3.6)', '18,624'], ['(Renewed) Dell Intel 5th Gen Core i5 5300U 14-Inch (35.56 cms) Laptop (8 GB/256 GB SSD/Windows 10/Intel HD Graphics/Black/), Latitude E5450', '(3.6)', '18,990'], ['Acer Aspire 5 Gaming Laptop Intel Core i5 12th gen (12-Cores) Processor (16 GB/512 GB SSD/Windows 11 Home/4GB Graphics/NVIDIA GeForce RTX 2050) A515-57G (15.6 inch Full HD Display, Steel Gray, 1.8 Kg)', '(3.9)', '60,990'], ['(Renewed) DELL Latitude 5490 Core i5 8th Gen Laptop, 16 GB RAM, 512GB SSD, Intel HD Graphics, 14 inch (36.83 cms) HD Screen, Windows 11 (Upgraded), MS Office, Black, Slim', '(3.0)', '26,459'], ['HP 15s, 12th Gen Intel Core i5 8GB RAM/512GB SSD 15.6-inch(39.6 cm) Micro-Edge Anti-Glare FHD Laptop/Intel Iris Xe Graphics/Alexa/Dual Speakers/Win 11/MSO 2021/1.41 Kg, 15s- fq5111TU', '(4.2)', '56,999'], ['HP ProBook 440 G8 Notebook PC, 11th Gen Intel Core i5-1135G7 14 inch(35.6cm) HD Laptop(8GB RAM/512GB SSD/Intel Irix Xe Graphics/Win 11/Pike Silver Aluminium/1.38 Kg) - 6G9R3PA', '(3.6)', '50,990'], ['ASUS Vivobook 14, 14.0-inch (35.56 cms) FHD, Intel Core i5-1035G1 10th Gen, Thin and Light Laptop (8GB/512GB SSD/Integrated Graphics/Windows 11/Office 2021/Grey/1.60 kg), X415JA-EK522WS', '(3.7)', '42,400'], ['Lenovo IdeaPad Slim 3 11th Gen Intel Core i5 15.6\" (39.62cm) FHD Laptop (8GB/512GB SSD/Win 11/Office 2021/2 Year Warranty/Alexa Built-in/3 Month Game Pass/Arctic Grey/1.65Kg), 82H802KYIN', '(4.2)', '51,490'], ['Dell Inspiron 3520 Laptop, Intel Core i5-1235U, 8GB, 512GB SSD, 15.6\" (39.62Cms) FHD WVA AG 120Hz 250 nits, Win 11 + MSO\\'21, Black (D560871WIN9B, 1.65Kgs)', '(3.0)', '56,000'], ['HP 15s, 12th Gen Intel Core i5 16GB RAM/512GB SSD 15.6-inch(39.6 cm) Micro-Edge Anti-Glare FHD Laptop/Win 11/Intel Iris Xe Graphics/Dual Speakers/Alexa/Backlit KB/MSO/Fast Charge, 15s- fq5112TU', '(3.9)', '63,990'], ['HP Pavilion 14 12th Gen Intel Core i5 16GB SDRAM/512GB SSD 14 inch(35.6cm) IPS Micro-Edge FHD Laptop/Intel UHD Graphics/B&O/Win 11/Alexa Built-in/Backlit KB/FPR/MSO 2021/Natural Silver, 14-dv2014TU', '(4.2)', '68,999'], ['Lenovo IdeaPad Slim 3 Intel Core i5 12th Gen 15.6\" (39.62cm) FHD Thin & Light Laptop (8GB/512GB SSD/Windows 11/Office 2021/Backlit/2Yr Warranty/3months Game Pass/Arctic Grey/1.63Kg), 82RK0062IN', '(4.0)', '53,990'], ['HP 15s, 12th Gen Intel Core i5 8GB RAM/512GB SSD 15.6-inch(39.6 cm) Micro-Edge Anti-Glare FHD Laptop/Intel Iris Xe Graphics/Alexa/Dual Speakers/Win 11/MSO 2021/1.41 Kg, 15s- fq5111TU', '(4.2)', '56,999'], ['ASUS Vivobook 14, 14.0-inch (35.56 cms) FHD, Intel Core i5-1035G1 10th Gen, Thin and Light Laptop (8GB/512GB SSD/Integrated Graphics/Windows 11/Office 2021/Grey/1.60 kg), X415JA-EK522WS', '(3.7)', '42,400'], ['Acer Travelmate Business Laptop Intel Core i5-1135G7 Processor ( 16GB DDR4/ 512GB SSD /Intel Iris Xe Graphics/ Windows 11 Home/MS Office) TMP214-53 with 35.56 cm (14.0\") Full HD Display', '(4.4)', '57,490'], ['Mi Notebook Pro QHD+ IPS Anti-Glare Display Intel Core I5-11300H 11th Gen 14 Inch Thin & Light Laptop (16GB/512GB SSD/Iris Xe Graphics/Windows 11 Home/MS Office 21/Backlit Keyboard/FP Sensor/1.4 Kg)', '(4.3)', '57,990'], ['Dell Vostro 3400 Laptop, Intel Core i5-1135G7, 8GB DDR4, 512GB SSD, NVIDIA MX330 2GB GDDR5, Win 11 + MSO\\'21, 14.0\" (35.56 Cms) FHD WVA AG, Dune Color (D552304WIN9DE, 1.59Kgs)', '(3.3)', '55,990'], ['(Renewed) Dell Latitude Laptop E7470 Intel Core I5 - 6300U Processor, 16 Gb Ram & 256 Gb Ssd, 14.1 Inches Screen Windows 10 Pro (Ultra Slim & Light 1.58Kg) Notebook Computer', '(3.4)', '21,199'], ['ASUS Vivobook Ultra K14, 11th Gen Intel Core i5-1135G7, 14\" (35.56 cm) FHD, Thin and Light Laptop (16GB/512GB SSD/Integrated Graphics/Windows 11/Backlit KB/Office 2021/Black/1.4 kg), K413EA-EB522WS', '(4.4)', '53,990'], ['(Renewed) Lenovo Thinkpad Intel Core i5 14-Inch (35.56 cms) 1366x768 Laptop (8 GB/500 GB/Windows 10/Intel HD Graphics/Black/2.20 Kg), T440', '(3.1)', '15,890'], ['ASUS Vivobook X515EP-BQ512TS Intel i5-1135G7 15.6 inches FHD vIPS Laptop (MX330/8GB/1T+256G PCIe SSD/Transparent Silver/ + McAfee/Office H&S/Finger Print/Windows 10 Home)', '(3.6)', '51,990'], ['(Renewed) Lenovo ThinkPad T470 intel 6th Gen Core i5 Laptop, 8 GB RAM, 256GB SSD, 14 inch (36.83 cms), Windows 11 (Upgraded), MS Office, Black', '(3.8)', '20,993'], ['ASUS VivoBook 14 (2021), Intel Core i5-1135G7 11th Gen, 14-inch (35.56 cms) FHD Thin and Light Laptop (8GB/256GB SSD/Office 2021/Windows 11/Integrated Graphics/Silver/1.6 Kg), X415EA-EB502WS', '(3.2)', '43,790'], ['Lenovo (Renewed) Thinkpad T460 14-inch Laptop (I5-6300U/16GB/256GB/Dos/Integrated Graphics), Black', '(3.8)', '19,497'], ['Acer Aspire Intel Core i5 11th Gen - (16 GB/ 512 GB SSD/Widows 11 Home/ MS Office/Silver/ 1.7 Kgs) A315-58 with 39.6 cm (15.6 inches) FHD Display Laptop', '(4.1)', '53,990'], ['Lenovo IdeaPad Slim 5 Intel Core i5 11th Gen 15.6\" (39.62cm) FHD IPS Thin & Light Laptop (16GB/512GB SSD/Windows 11/Office 2021/Backlit/FPR/3months Game Pass/Graphite Grey/1.66Kg), 82FG01B5IN', '(4.1)', '62,700'], ['Acer Aspire 3 Intel Core i5 12th Generation (16GB/512 GB SSD/Windows 11 Home/MS Office/1.7 Kg/Silver) A315-59 with 15.6-inch (39.6 cms) Full HD Laptop', '(4.0)', '61,990'], [\"RedmiBook Pro Intel Core i5 11th Gen H Series 15.6-inch(39.62 cm) Thin and Light Laptop (8GB/512 GB SSD/Windows 11) (Charcoal Gray, 1.8 kg, with MS Office'21)\", '(3.9)', '41,090']]\n"
     ]
    }
   ],
   "source": [
    "lists = []\n",
    "\n",
    "for i in range(1,2):\n",
    "    name = driver.find_elements(By.XPATH, '//span[@class=\"a-size-medium a-color-base a-text-normal\"]')\n",
    "    rat = driver.find_elements(By.XPATH, '//span[@class=\"a-size-base\"]')\n",
    "    pr = driver.find_elements(By.XPATH, '//span[@class=\"a-price-whole\"]')\n",
    "\n",
    "    for i in range(len(name)):\n",
    "        lists.append([name[i].text, rat[i].text,pr[i].text] )\n",
    "        \n",
    "print(lists)\n",
    "\n",
    "driver.close()"
   ]
  },
  {
   "cell_type": "code",
   "execution_count": 28,
   "id": "6b867885-7d33-4bbd-a5fe-a5968e7d2638",
   "metadata": {},
   "outputs": [
    {
     "data": {
      "text/html": [
       "<div>\n",
       "<style scoped>\n",
       "    .dataframe tbody tr th:only-of-type {\n",
       "        vertical-align: middle;\n",
       "    }\n",
       "\n",
       "    .dataframe tbody tr th {\n",
       "        vertical-align: top;\n",
       "    }\n",
       "\n",
       "    .dataframe thead th {\n",
       "        text-align: right;\n",
       "    }\n",
       "</style>\n",
       "<table border=\"1\" class=\"dataframe\">\n",
       "  <thead>\n",
       "    <tr style=\"text-align: right;\">\n",
       "      <th></th>\n",
       "      <th>Title</th>\n",
       "      <th>Rating</th>\n",
       "      <th>Price</th>\n",
       "    </tr>\n",
       "  </thead>\n",
       "  <tbody>\n",
       "    <tr>\n",
       "      <th>0</th>\n",
       "      <td>Acer Aspire 5 Intel Core i5 11th Gen Thin &amp; Li...</td>\n",
       "      <td>(3.7)</td>\n",
       "      <td>44,990</td>\n",
       "    </tr>\n",
       "    <tr>\n",
       "      <th>1</th>\n",
       "      <td>HP Pavilion 14 12th Gen Intel Core i5 16GB SDR...</td>\n",
       "      <td>(4.2)</td>\n",
       "      <td>68,999</td>\n",
       "    </tr>\n",
       "    <tr>\n",
       "      <th>2</th>\n",
       "      <td>(Renewed) Dell Latitude E5470 Intel Core i5 6t...</td>\n",
       "      <td>(3.6)</td>\n",
       "      <td>18,624</td>\n",
       "    </tr>\n",
       "    <tr>\n",
       "      <th>3</th>\n",
       "      <td>(Renewed) Dell Intel 5th Gen Core i5 5300U 14-...</td>\n",
       "      <td>(3.6)</td>\n",
       "      <td>18,990</td>\n",
       "    </tr>\n",
       "    <tr>\n",
       "      <th>4</th>\n",
       "      <td>Acer Aspire 5 Gaming Laptop Intel Core i5 12th...</td>\n",
       "      <td>(3.9)</td>\n",
       "      <td>60,990</td>\n",
       "    </tr>\n",
       "    <tr>\n",
       "      <th>5</th>\n",
       "      <td>(Renewed) DELL Latitude 5490 Core i5 8th Gen L...</td>\n",
       "      <td>(3.0)</td>\n",
       "      <td>26,459</td>\n",
       "    </tr>\n",
       "    <tr>\n",
       "      <th>6</th>\n",
       "      <td>HP 15s, 12th Gen Intel Core i5 8GB RAM/512GB S...</td>\n",
       "      <td>(4.2)</td>\n",
       "      <td>56,999</td>\n",
       "    </tr>\n",
       "    <tr>\n",
       "      <th>7</th>\n",
       "      <td>HP ProBook 440 G8 Notebook PC, 11th Gen Intel ...</td>\n",
       "      <td>(3.6)</td>\n",
       "      <td>50,990</td>\n",
       "    </tr>\n",
       "    <tr>\n",
       "      <th>8</th>\n",
       "      <td>ASUS Vivobook 14, 14.0-inch (35.56 cms) FHD, I...</td>\n",
       "      <td>(3.7)</td>\n",
       "      <td>42,400</td>\n",
       "    </tr>\n",
       "    <tr>\n",
       "      <th>9</th>\n",
       "      <td>Lenovo IdeaPad Slim 3 11th Gen Intel Core i5 1...</td>\n",
       "      <td>(4.2)</td>\n",
       "      <td>51,490</td>\n",
       "    </tr>\n",
       "  </tbody>\n",
       "</table>\n",
       "</div>"
      ],
      "text/plain": [
       "                                               Title Rating   Price\n",
       "0  Acer Aspire 5 Intel Core i5 11th Gen Thin & Li...  (3.7)  44,990\n",
       "1  HP Pavilion 14 12th Gen Intel Core i5 16GB SDR...  (4.2)  68,999\n",
       "2  (Renewed) Dell Latitude E5470 Intel Core i5 6t...  (3.6)  18,624\n",
       "3  (Renewed) Dell Intel 5th Gen Core i5 5300U 14-...  (3.6)  18,990\n",
       "4  Acer Aspire 5 Gaming Laptop Intel Core i5 12th...  (3.9)  60,990\n",
       "5  (Renewed) DELL Latitude 5490 Core i5 8th Gen L...  (3.0)  26,459\n",
       "6  HP 15s, 12th Gen Intel Core i5 8GB RAM/512GB S...  (4.2)  56,999\n",
       "7  HP ProBook 440 G8 Notebook PC, 11th Gen Intel ...  (3.6)  50,990\n",
       "8  ASUS Vivobook 14, 14.0-inch (35.56 cms) FHD, I...  (3.7)  42,400\n",
       "9  Lenovo IdeaPad Slim 3 11th Gen Intel Core i5 1...  (4.2)  51,490"
      ]
     },
     "execution_count": 28,
     "metadata": {},
     "output_type": "execute_result"
    }
   ],
   "source": [
    "pd.DataFrame(lists, columns =['Title', 'Rating', 'Price'])[:10]"
   ]
  },
  {
   "cell_type": "code",
   "execution_count": null,
   "id": "ab3720d6-4321-4e14-9db9-0bfa6589569f",
   "metadata": {},
   "outputs": [],
   "source": []
  }
 ],
 "metadata": {
  "kernelspec": {
   "display_name": "Python 3 (ipykernel)",
   "language": "python",
   "name": "python3"
  },
  "language_info": {
   "codemirror_mode": {
    "name": "ipython",
    "version": 3
   },
   "file_extension": ".py",
   "mimetype": "text/x-python",
   "name": "python",
   "nbconvert_exporter": "python",
   "pygments_lexer": "ipython3",
   "version": "3.9.7"
  }
 },
 "nbformat": 4,
 "nbformat_minor": 5
}
